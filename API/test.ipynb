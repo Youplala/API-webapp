{
 "cells": [
  {
   "cell_type": "code",
   "execution_count": 10,
   "source": [
    "import os\n",
    "from flask import Flask, jsonify, request\n",
    "from transformers import pipeline"
   ],
   "outputs": [],
   "metadata": {}
  },
  {
   "cell_type": "code",
   "execution_count": 11,
   "source": [
    "model_path = \"./beto-emotion\"\n",
    "\n",
    "unmasker = pipeline(\"text-classification\", model=model_path, tokenizer=model_path)"
   ],
   "outputs": [],
   "metadata": {}
  },
  {
   "cell_type": "code",
   "execution_count": 13,
   "source": [
    "unmasker(\"I love it\")"
   ],
   "outputs": [
    {
     "output_type": "execute_result",
     "data": {
      "text/plain": [
       "[{'label': 'joy', 'score': 0.5203583240509033}]"
      ]
     },
     "metadata": {},
     "execution_count": 13
    }
   ],
   "metadata": {}
  },
  {
   "cell_type": "code",
   "execution_count": null,
   "source": [],
   "outputs": [],
   "metadata": {}
  }
 ],
 "metadata": {
  "orig_nbformat": 4,
  "language_info": {
   "name": "python",
   "version": "3.8.11",
   "mimetype": "text/x-python",
   "codemirror_mode": {
    "name": "ipython",
    "version": 3
   },
   "pygments_lexer": "ipython3",
   "nbconvert_exporter": "python",
   "file_extension": ".py"
  },
  "kernelspec": {
   "name": "python3",
   "display_name": "Python 3.8.11 64-bit ('env': conda)"
  },
  "interpreter": {
   "hash": "2b5e7d674865df241546fd9e9135da810b6a3bcccbb8b746bb4592730ba84f48"
  }
 },
 "nbformat": 4,
 "nbformat_minor": 2
}